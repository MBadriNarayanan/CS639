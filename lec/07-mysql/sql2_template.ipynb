{
 "cells": [
  {
   "cell_type": "markdown",
   "id": "09c41611-e667-4a3c-bcdf-264d7f9cf4f8",
   "metadata": {},
   "source": [
    "## SQL 1"
   ]
  },
  {
   "cell_type": "code",
   "execution_count": null,
   "id": "a7168144-c014-49f3-962f-218a7514e2c0",
   "metadata": {},
   "outputs": [],
   "source": [
    "# import statements\n"
   ]
  },
  {
   "cell_type": "markdown",
   "id": "823fac26-e2e5-4d29-b03a-4534dbe4c52d",
   "metadata": {},
   "source": [
    "#### Installation requirements\n",
    "\n",
    "You can either run `pip3 install pandas` on your ssh session or try doing the installation from the notebook."
   ]
  },
  {
   "cell_type": "markdown",
   "id": "c79bd3c2-abc6-42da-8497-40e162be5e97",
   "metadata": {},
   "source": [
    "### Running linux commands from jupyter notebook"
   ]
  },
  {
   "cell_type": "code",
   "execution_count": null,
   "id": "28414b87-562d-4fdd-8d7d-380f0881ba2e",
   "metadata": {},
   "outputs": [],
   "source": [
    "#pwd"
   ]
  },
  {
   "cell_type": "code",
   "execution_count": null,
   "id": "525e3603-74ff-4c88-8100-dd9590a7f846",
   "metadata": {},
   "outputs": [],
   "source": [
    "#ls"
   ]
  },
  {
   "cell_type": "code",
   "execution_count": null,
   "id": "37e08da4-c4bf-438b-a310-6a59dcbd0abd",
   "metadata": {},
   "outputs": [],
   "source": [
    "!pip3 install pandas"
   ]
  },
  {
   "cell_type": "code",
   "execution_count": null,
   "id": "0850f1d9-e15d-4dee-9af1-3892586c5e12",
   "metadata": {},
   "outputs": [],
   "source": [
    "engine = \n",
    "conn = "
   ]
  },
  {
   "cell_type": "code",
   "execution_count": null,
   "id": "7660cfbd-9b58-4eff-8650-7eba09a519e8",
   "metadata": {},
   "outputs": [],
   "source": [
    "# show tables"
   ]
  },
  {
   "cell_type": "markdown",
   "id": "db7055de-2a57-431e-bc35-0de9e4173b19",
   "metadata": {},
   "source": [
    "### Table creation"
   ]
  },
  {
   "cell_type": "markdown",
   "id": "5723265b-418e-4ec9-85a9-b3f0d1652d3d",
   "metadata": {},
   "source": [
    "#### `Students` table\n",
    "Let's create `Students` table with columns:\n",
    "- `sid(int)` - primary key\n",
    "- `name(text)` - required\n",
    "- `gpa(float)`"
   ]
  },
  {
   "cell_type": "code",
   "execution_count": null,
   "id": "8245dd07-51b6-40df-a4ed-4a8c6b1fa274",
   "metadata": {},
   "outputs": [],
   "source": []
  },
  {
   "cell_type": "code",
   "execution_count": null,
   "id": "3293d131-cdb8-42e8-9872-329548c53344",
   "metadata": {},
   "outputs": [],
   "source": [
    "list(conn.execute(text(\"show tables;\")))"
   ]
  },
  {
   "cell_type": "markdown",
   "id": "6a57d149-5e3d-400b-aef2-7c26c2481fdd",
   "metadata": {},
   "source": [
    "### Inserting data"
   ]
  },
  {
   "cell_type": "markdown",
   "id": "ccbdbb0f-1cd3-4d88-baee-5604e475b168",
   "metadata": {},
   "source": [
    "Let's add a student: example: 101, \"Alice\", 3.2"
   ]
  },
  {
   "cell_type": "code",
   "execution_count": null,
   "id": "7a0447db-b873-43bd-af98-2cbe275ee4c8",
   "metadata": {},
   "outputs": [],
   "source": [
    "conn.execute(text(\"\"\"\n",
    "    \n",
    "\"\"\"))"
   ]
  },
  {
   "cell_type": "code",
   "execution_count": null,
   "id": "0bc29910-b58b-4e51-a316-df15a13ef3e9",
   "metadata": {},
   "outputs": [],
   "source": [
    "conn.execute(text(\"\"\"\n",
    "    INSERT INTO Students (sid, name, gpa) \n",
    "    VALUES (123, \"Bob\", 3.8)\n",
    "\"\"\"))"
   ]
  },
  {
   "cell_type": "markdown",
   "id": "a992d65a-24b0-4f54-be11-67734e6cd5f5",
   "metadata": {},
   "source": [
    "### Projection aka `SELECT` clause in SQL\n",
    "\n",
    "Retrieving all or specific columns from a table."
   ]
  },
  {
   "cell_type": "code",
   "execution_count": null,
   "id": "64f0809e-5667-4f53-a598-75b4bb4d6012",
   "metadata": {},
   "outputs": [],
   "source": []
  },
  {
   "cell_type": "markdown",
   "id": "34e4a040-4b71-4d5f-a641-d506e3c66fdc",
   "metadata": {},
   "source": [
    "### Updating data\n",
    "\n",
    "Let's change Alice's GPA to 3.7"
   ]
  },
  {
   "cell_type": "code",
   "execution_count": null,
   "id": "79f914f5-898e-4c8e-ae3b-aa1b4bdb9e41",
   "metadata": {},
   "outputs": [],
   "source": [
    "conn.execute(text(\"\"\"\n",
    "    \n",
    "\"\"\"))"
   ]
  },
  {
   "cell_type": "code",
   "execution_count": null,
   "id": "0d9a980c-ead8-4bc7-a87f-b72ffa614c88",
   "metadata": {},
   "outputs": [],
   "source": [
    "pd.read_sql(\"SELECT * FROM Students\", conn)"
   ]
  },
  {
   "cell_type": "markdown",
   "id": "88d7d52a-88b8-423d-bd61-65c4a0f966c0",
   "metadata": {},
   "source": [
    "#### `Courses` table\n",
    "Let's create accounts `Courses` with columns:\n",
    "- `cid(int)` - primary key\n",
    "- `cname(text)` - required\n",
    "- `credits(int)` - required"
   ]
  },
  {
   "cell_type": "code",
   "execution_count": null,
   "id": "a02cbd74-0e39-41aa-88e4-15fde184f0ac",
   "metadata": {},
   "outputs": [],
   "source": [
    "conn.execute(text(\"\"\"\n",
    "    create table Courses (\n",
    "    cid int, \n",
    "    cname text ?, \n",
    "    credits int ?, \n",
    "    primary key(cid))\n",
    "\"\"\"))"
   ]
  },
  {
   "cell_type": "code",
   "execution_count": null,
   "id": "3a987737-751d-4518-a638-05592c98baeb",
   "metadata": {},
   "outputs": [],
   "source": [
    "list(conn.execute(text(\"show tables;\")))"
   ]
  },
  {
   "cell_type": "markdown",
   "id": "5494512a-52f8-4858-a4b2-c19fd17ba759",
   "metadata": {},
   "source": [
    "### Table deletion\n",
    "\n",
    "What if we wanted to delete a table?"
   ]
  },
  {
   "cell_type": "code",
   "execution_count": null,
   "id": "5e0c20ac-6893-495e-babb-f8d98e8a11e7",
   "metadata": {},
   "outputs": [],
   "source": [
    "conn.execute(text(\"\"))"
   ]
  },
  {
   "cell_type": "markdown",
   "id": "da95d6e9-3fe8-4f29-b275-b9db81df0f4b",
   "metadata": {},
   "source": [
    "Let's recreate `Courses` table. This time, let's make `cid` type `VARCHAR(255)` instead of int."
   ]
  },
  {
   "cell_type": "code",
   "execution_count": null,
   "id": "0fb9cd77-8576-4ace-80a0-450350561004",
   "metadata": {},
   "outputs": [],
   "source": [
    "conn.execute(text(\"\"\"\n",
    "    create table Courses (\n",
    "    cid VARCHAR(255) PRIMARY KEY, \n",
    "    cname text NOT NULL, \n",
    "    credits int NOT NULL)\n",
    "\"\"\"))"
   ]
  },
  {
   "cell_type": "markdown",
   "id": "9fcad899-1ee5-4554-91eb-c0eb206833c0",
   "metadata": {},
   "source": [
    "Let's insert the two courses from the slide example."
   ]
  },
  {
   "cell_type": "code",
   "execution_count": null,
   "id": "979350c5-e09c-4eaf-bf6a-ab9f2e50b728",
   "metadata": {},
   "outputs": [],
   "source": [
    "conn.execute(text(\"\"\"\n",
    "    INSERT INTO Courses (cid, cname, credits) \n",
    "    VALUES (\"CS544\", \"Big Data\", 3)\n",
    "\"\"\"))\n",
    "conn.execute(text(\"\"\"\n",
    "    INSERT INTO Courses (cid, cname, credits) \n",
    "    VALUES (\"CS639\", \"Data Management\", 3)\n",
    "\"\"\"))"
   ]
  },
  {
   "cell_type": "markdown",
   "id": "85d0e2a6-43d0-4075-97d7-75a6e12206a9",
   "metadata": {},
   "source": [
    "#### `Enrolled` table\n",
    "\n",
    "Let's create `Enrolled` table with columns:\n",
    "- sid(int) - foreign key\n",
    "- cid(VARCHAR (255)) - foreign key\n",
    "- grade(text)"
   ]
  },
  {
   "cell_type": "code",
   "execution_count": null,
   "id": "67f2cdb3-fdf8-472f-987e-5edc3b330bd4",
   "metadata": {},
   "outputs": [],
   "source": [
    "conn.execute(text(\"\"\"\n",
    "    create table Enrolled (sid int, cid VARCHAR(255), grade text,\n",
    "                           ?,\n",
    "                           ?\n",
    "\"\"\"))"
   ]
  },
  {
   "cell_type": "code",
   "execution_count": null,
   "id": "8b19b972-2188-4f40-a15f-b529ef6fa748",
   "metadata": {},
   "outputs": [],
   "source": [
    "list(conn.execute(text(\"show tables;\")))"
   ]
  },
  {
   "cell_type": "markdown",
   "id": "d887d3b2-5231-4e33-9ac8-5f7affa09d2d",
   "metadata": {},
   "source": [
    "Let's add the erollments from the slide example."
   ]
  },
  {
   "cell_type": "code",
   "execution_count": null,
   "id": "20a1257a-bbb7-4ae2-9075-4b3b3f4ed9be",
   "metadata": {},
   "outputs": [],
   "source": [
    "conn.execute(text(\"\"\"\n",
    "    INSERT INTO Enrolled (sid, cid, grade) \n",
    "    VALUES (123, \"CS544\", \"A\")\n",
    "\"\"\"))\n",
    "conn.execute(text(\"\"\"\n",
    "    INSERT INTO Enrolled (sid, cid, grade) \n",
    "    VALUES (101, \"CS639\", \"A\")\n",
    "\"\"\"))"
   ]
  },
  {
   "cell_type": "code",
   "execution_count": null,
   "id": "8c3fc6e3-f2ed-4587-869e-24bacb716627",
   "metadata": {},
   "outputs": [],
   "source": [
    "pd.read_sql(\"SELECT * FROM Courses\", conn)"
   ]
  },
  {
   "cell_type": "markdown",
   "id": "cae15837-918c-4f4c-8cb5-95a5e5102757",
   "metadata": {},
   "source": [
    "What if we try to enroll a non-existing student?"
   ]
  },
  {
   "cell_type": "code",
   "execution_count": null,
   "id": "71759164-c944-41fb-b9a9-f65b7996114c",
   "metadata": {},
   "outputs": [],
   "source": [
    "# doesn't work - no foreign key mapping\n",
    "conn.execute(text(\"\"\"\n",
    "    INSERT INTO Enrolled (sid, cid, grade) VALUES (10, \"No one\", \"Nothing\")\n",
    "\"\"\"))"
   ]
  },
  {
   "cell_type": "markdown",
   "id": "a27eb8b9-1bb1-4487-9709-f99ef0d2ed74",
   "metadata": {},
   "source": [
    "Commit the transaction."
   ]
  },
  {
   "cell_type": "code",
   "execution_count": null,
   "id": "a9017a0b-0e2c-41ad-9c0d-39cb1a2ab78d",
   "metadata": {},
   "outputs": [],
   "source": [
    "conn.commit()"
   ]
  },
  {
   "cell_type": "markdown",
   "id": "6ba78eb9-8f67-4036-871c-2beaa59d9000",
   "metadata": {},
   "source": [
    "What if we try to delete Student with id 101 from Students table?"
   ]
  },
  {
   "cell_type": "code",
   "execution_count": null,
   "id": "34840c59-ad82-4b25-92fa-db548b31f3a8",
   "metadata": {},
   "outputs": [],
   "source": [
    "# doesn't work - foreign key prevents this\n",
    "conn.execute(text(\"\"\"\n",
    "    DELETE FROM Students WHERE sid = 101\n",
    "\"\"\"))"
   ]
  },
  {
   "cell_type": "markdown",
   "id": "663c4faa-e6a4-45a0-96ad-127faa44a08f",
   "metadata": {},
   "source": [
    "### Load CSVs to MySQL Tables\n",
    "\n",
    "### Spotify dataset: https://ms.sites.cs.wisc.edu/cs639/data/spotify.zip"
   ]
  },
  {
   "cell_type": "code",
   "execution_count": null,
   "id": "efabfece-edf4-4bc6-8ccc-7937683b8f0c",
   "metadata": {},
   "outputs": [],
   "source": [
    "base_url = \"https://ms.sites.cs.wisc.edu/cs639/data/\"\n",
    "df = pd.read_csv(base_url + \"spotify.zip\", compression=\"zip\")\n",
    "df.?"
   ]
  },
  {
   "cell_type": "code",
   "execution_count": null,
   "id": "c4799ece-7b24-495d-9b90-ad7b76be0943",
   "metadata": {},
   "outputs": [],
   "source": [
    "pd.read_sql(\"SELECT * FROM songs\", conn)"
   ]
  },
  {
   "cell_type": "markdown",
   "id": "76b7259f-7636-4a5f-bc1d-14e53c20bc7b",
   "metadata": {},
   "source": [
    "## SQL 2: Basic SQL clauses"
   ]
  },
  {
   "cell_type": "markdown",
   "id": "0b8bb65d-c304-498e-ad7f-b26694b5452b",
   "metadata": {},
   "source": [
    "Let's drop all the tables that we created so far."
   ]
  },
  {
   "cell_type": "code",
   "execution_count": null,
   "id": "9c2bf804-74a4-4c28-b0b6-d3fae704de83",
   "metadata": {},
   "outputs": [],
   "source": [
    "# you have to drop the table with foreign key constraint first\n",
    "conn.execute(text(\"drop table Enrolled\"))\n",
    "conn.execute(text(\"drop table Students\"))\n",
    "conn.execute(text(\"drop table Courses\"))\n",
    "conn.execute(text(\"drop table songs\"))"
   ]
  },
  {
   "cell_type": "code",
   "execution_count": null,
   "id": "9d9c72ca-979c-4e17-839a-bd2b6f00214b",
   "metadata": {},
   "outputs": [],
   "source": [
    "list(conn.execute(text(\"show tables;\")))"
   ]
  },
  {
   "cell_type": "markdown",
   "id": "62b35eeb-6a07-451b-b65d-fab184197b51",
   "metadata": {},
   "source": [
    "### IMDB dataset\n",
    "\n",
    "- Source: https://datasets.imdbws.com/ \n",
    "- Original dataset is too large to be analyzed using our current VM\n",
    "- Schema information: https://developer.imdb.com/non-commercial-datasets/"
   ]
  },
  {
   "cell_type": "markdown",
   "id": "fbdc790b-843e-4de0-82d2-6ba400d9b925",
   "metadata": {},
   "source": [
    "Let's download a sampled version of the dataset."
   ]
  },
  {
   "cell_type": "code",
   "execution_count": null,
   "id": "6b99f0f1-7fe4-4185-a5b6-f5ae2b2eec57",
   "metadata": {},
   "outputs": [],
   "source": [
    "!\n",
    "!\n",
    "!wget https://ms.sites.cs.wisc.edu/cs639/data/IMDB.zip\n",
    "!unzip IMDB.zip"
   ]
  },
  {
   "cell_type": "markdown",
   "id": "d11ec8e1-7784-4414-9324-c8f4a80aff4b",
   "metadata": {},
   "source": [
    "#### Populating MySQL server with tables corresponding to all tsv files"
   ]
  },
  {
   "cell_type": "code",
   "execution_count": null,
   "id": "36c76101-183c-4c98-aed4-b5678c313274",
   "metadata": {},
   "outputs": [],
   "source": [
    "files = os.listdir()\n",
    "files"
   ]
  },
  {
   "cell_type": "code",
   "execution_count": null,
   "id": "489717fe-c939-40dc-805b-aad54762be2a",
   "metadata": {},
   "outputs": [],
   "source": [
    "tsv_files = [f for f in files if \".tsv\" in f]\n",
    "tsv_files"
   ]
  },
  {
   "cell_type": "code",
   "execution_count": null,
   "id": "0591276f-1e29-4084-8e7c-1b42576059e9",
   "metadata": {},
   "outputs": [],
   "source": [
    "table_names = [f.replace(\".tsv\", \"\") for f in tsv_files]\n",
    "table_names = [f.replace(\".\", \"_\") for f in table_names]\n",
    "table_names"
   ]
  },
  {
   "cell_type": "code",
   "execution_count": null,
   "id": "85eced36-c0a4-4e3e-98b1-14607a860b1a",
   "metadata": {},
   "outputs": [],
   "source": []
  },
  {
   "cell_type": "code",
   "execution_count": null,
   "id": "31a1a7c5-00b9-40b9-b1e5-0f747f0db884",
   "metadata": {},
   "outputs": [],
   "source": [
    "list(conn.execute(text(\"show tables;\")))"
   ]
  },
  {
   "cell_type": "markdown",
   "id": "1cd1beae-e68d-43c0-8467-8bc140c42e8e",
   "metadata": {},
   "source": [
    "### Explore the tables"
   ]
  },
  {
   "cell_type": "code",
   "execution_count": null,
   "id": "6a6728f1-a26d-4be4-b30d-7c3a25366677",
   "metadata": {},
   "outputs": [],
   "source": [
    "# name_basics\n",
    "pd.read_sql(\"SELECT * FROM name_basics LIMIT 5\", conn)"
   ]
  },
  {
   "cell_type": "code",
   "execution_count": null,
   "id": "c1903c2d-715b-44a6-bbf5-10e09a0759eb",
   "metadata": {},
   "outputs": [],
   "source": [
    "# title_akas\n",
    "pd.read_sql(\"SELECT * FROM title_akas LIMIT 5\", conn)"
   ]
  },
  {
   "cell_type": "code",
   "execution_count": null,
   "id": "dc2d4d2b-fd30-4ab9-952b-ce3f50c94c98",
   "metadata": {},
   "outputs": [],
   "source": [
    "# title_basics\n",
    "pd.read_sql(\"SELECT * FROM title_basics LIMIT 5\", conn)"
   ]
  },
  {
   "cell_type": "code",
   "execution_count": null,
   "id": "f81fb24d-f7d1-47f9-b764-31aeccace3c2",
   "metadata": {},
   "outputs": [],
   "source": [
    "# title_crew\n",
    "pd.read_sql(\"SELECT * FROM title_crew LIMIT 5\", conn)"
   ]
  },
  {
   "cell_type": "code",
   "execution_count": null,
   "id": "b2060bbf-5b77-4a68-82c1-d7bed27cac8e",
   "metadata": {},
   "outputs": [],
   "source": [
    "# title_episode\n",
    "pd.read_sql(\"SELECT * FROM title_episode LIMIT 5\", conn)"
   ]
  },
  {
   "cell_type": "code",
   "execution_count": null,
   "id": "688f424b-dff3-47d4-9ece-35c9400bbe49",
   "metadata": {},
   "outputs": [],
   "source": [
    "# title_principals\n",
    "pd.read_sql(\"SELECT * FROM title_principals LIMIT 5\", conn)"
   ]
  },
  {
   "cell_type": "code",
   "execution_count": null,
   "id": "4434c65d-0ce7-4209-98f7-02a0302eecc2",
   "metadata": {},
   "outputs": [],
   "source": [
    "# title_ratings\n",
    "pd.read_sql(\"SELECT * FROM title_ratings LIMIT 5\", conn)"
   ]
  },
  {
   "cell_type": "markdown",
   "id": "4bc0b91d-047b-45b0-95f6-566e46200e57",
   "metadata": {},
   "source": [
    "### Data Analysis"
   ]
  },
  {
   "cell_type": "markdown",
   "id": "707d9aab-195b-4037-b29e-bedc2227b7ab",
   "metadata": {},
   "source": [
    "#### Q1: What are the movies?"
   ]
  },
  {
   "cell_type": "code",
   "execution_count": null,
   "id": "a04a9da0-3bd1-48e5-993d-074f47200e36",
   "metadata": {},
   "outputs": [],
   "source": [
    "pd.read_sql(\"\"\"\n",
    "    \n",
    "\"\"\", conn)"
   ]
  },
  {
   "cell_type": "markdown",
   "id": "2a6e04da-d03b-45c4-bbe3-31b33d83ec15",
   "metadata": {},
   "source": [
    "#### Q2: What are all the movie titles and their corresponding release years? Eliminate movies without release years.\n",
    "\n",
    "Which table can we find this data from?"
   ]
  },
  {
   "cell_type": "code",
   "execution_count": null,
   "id": "d8019789-9179-427c-82eb-0152af022e30",
   "metadata": {},
   "outputs": [],
   "source": [
    "pd.read_sql(\"\"\"\n",
    "    SELECT \n",
    "    FROM title_basics\n",
    "    WHERE titleType = 'movie'\n",
    "\"\"\", conn)"
   ]
  },
  {
   "cell_type": "markdown",
   "id": "b2e8d015-9f30-4a95-b7e3-dc8ca3a636ca",
   "metadata": {},
   "source": [
    "#### Q3: How many movies are in this dataset?"
   ]
  },
  {
   "cell_type": "code",
   "execution_count": null,
   "id": "48c049dc-7a00-45e3-9c8a-ce0379c9174b",
   "metadata": {},
   "outputs": [],
   "source": [
    "pd.read_sql(\"\"\"\n",
    "    SELECT \n",
    "    FROM title_basics\n",
    "    WHERE titleType = 'movie'\n",
    "\"\"\", conn)"
   ]
  },
  {
   "cell_type": "markdown",
   "id": "e3d5d6bd-ee8c-464f-9300-5b770d454d8a",
   "metadata": {},
   "source": [
    "#### Q4: What are all the types of titles in this dataset?"
   ]
  },
  {
   "cell_type": "code",
   "execution_count": null,
   "id": "811e2a2b-5b56-482d-93bd-55f56d586f57",
   "metadata": {},
   "outputs": [],
   "source": [
    "pd.read_sql(\"\"\"\n",
    "    SELECT \n",
    "    FROM title_basics\n",
    "\"\"\", conn)"
   ]
  },
  {
   "cell_type": "markdown",
   "id": "93d0caf3-8d4d-45b1-b24e-7dc03bbb87c2",
   "metadata": {},
   "source": [
    "#### Q5: How many title types are there in this dataset?"
   ]
  },
  {
   "cell_type": "code",
   "execution_count": null,
   "id": "b301a700-5053-4348-bb02-1ab253244b78",
   "metadata": {},
   "outputs": [],
   "source": [
    "pd.read_sql(\"\"\"\n",
    "    SELECT \n",
    "    FROM title_basics\n",
    "\"\"\", conn)"
   ]
  },
  {
   "cell_type": "markdown",
   "id": "2c055a9b-74f2-428e-b5c6-7222e5cedebe",
   "metadata": {},
   "source": [
    "#### Q6: What are all the movies that got released in 2023?"
   ]
  },
  {
   "cell_type": "code",
   "execution_count": null,
   "id": "a193b33c-5f64-4f7b-8986-84c5910fae5a",
   "metadata": {},
   "outputs": [],
   "source": []
  },
  {
   "cell_type": "markdown",
   "id": "1659cb49-467d-4279-9014-67412587d162",
   "metadata": {},
   "source": [
    "#### Q7: What is the average rating of all titles?"
   ]
  },
  {
   "cell_type": "code",
   "execution_count": null,
   "id": "68d91c19-5988-445e-9124-42bc98a8bd7f",
   "metadata": {},
   "outputs": [],
   "source": [
    "pd.read_sql(\"\"\"\n",
    "    SELECT \n",
    "    FROM title_ratings\n",
    "\"\"\", conn)"
   ]
  },
  {
   "cell_type": "markdown",
   "id": "f01a4507-8a66-4d1d-92e9-057b56126e02",
   "metadata": {},
   "source": [
    "#### Q8: What are all the movies that have runtime greater than 2 hours?"
   ]
  },
  {
   "cell_type": "code",
   "execution_count": null,
   "id": "37e6037c-cd91-4f70-ba90-d7a0870a9748",
   "metadata": {},
   "outputs": [],
   "source": [
    "pd.read_sql(\"\"\"\n",
    "    SELECT *\n",
    "    FROM title_basics\n",
    "    WHERE titleType = 'movie' and \n",
    "\"\"\", conn)"
   ]
  },
  {
   "cell_type": "markdown",
   "id": "afae6fea-51f0-4162-b716-2a3ebb339522",
   "metadata": {},
   "source": [
    "#### Q9: What are all the \"Comedy\" movies?"
   ]
  },
  {
   "cell_type": "code",
   "execution_count": null,
   "id": "cb2b2c75-034f-4a72-bdeb-a96b5406319c",
   "metadata": {},
   "outputs": [],
   "source": [
    "pd.read_sql(\"\"\"\n",
    "    SELECT *\n",
    "    FROM title_basics\n",
    "    WHERE genres\n",
    "\"\"\", conn)"
   ]
  },
  {
   "cell_type": "markdown",
   "id": "fdd1f5ab-01c3-4281-a7a9-e6c578583546",
   "metadata": {},
   "source": [
    "#### Q10: Find the total number of people in the dataset."
   ]
  },
  {
   "cell_type": "code",
   "execution_count": null,
   "id": "63b6f080-ffa6-45ab-85b6-310c803b27d1",
   "metadata": {},
   "outputs": [],
   "source": [
    "pd.read_sql(\"\"\"\n",
    "    SELECT\n",
    "    FROM name_basics\n",
    "\"\"\", conn)"
   ]
  },
  {
   "cell_type": "markdown",
   "id": "6ddbbb9a-bc18-41c3-ac9f-14da6618998d",
   "metadata": {},
   "source": [
    "#### Q11: What are the distinct primary professions of individuals in the dataset?"
   ]
  },
  {
   "cell_type": "code",
   "execution_count": null,
   "id": "4f36e7c4-58cf-4999-a506-00997c1c4853",
   "metadata": {},
   "outputs": [],
   "source": []
  },
  {
   "cell_type": "markdown",
   "id": "84d1b5f8-eec2-42e2-a47f-0eec68b17acc",
   "metadata": {},
   "source": [
    "#### Q12: What are the total number of alternate titles listed in the dataset?"
   ]
  },
  {
   "cell_type": "code",
   "execution_count": null,
   "id": "3131a13f-07e9-4ee3-9c40-a8cfecf57960",
   "metadata": {},
   "outputs": [],
   "source": []
  },
  {
   "cell_type": "markdown",
   "id": "04030539-f95a-4566-a651-fb974d56303c",
   "metadata": {},
   "source": [
    "#### Q13: What is the total runtime in the dataset?"
   ]
  },
  {
   "cell_type": "code",
   "execution_count": null,
   "id": "33965393-074d-4818-9f3c-8411e9a8614b",
   "metadata": {},
   "outputs": [],
   "source": [
    "pd.read_sql(\"\"\"\n",
    "    SELECT \n",
    "    FROM title_basics\n",
    "    WHERE runtimeMinutes\n",
    "\"\"\", conn)"
   ]
  },
  {
   "cell_type": "markdown",
   "id": "d1138ad7-a59b-486b-b44c-b0bbfe29c02a",
   "metadata": {},
   "source": [
    "#### Q14: What are the regions where alternate titles are available?"
   ]
  },
  {
   "cell_type": "code",
   "execution_count": null,
   "id": "186ff67a-ec11-4b2c-adaa-3d32c7ea405f",
   "metadata": {},
   "outputs": [],
   "source": []
  },
  {
   "cell_type": "markdown",
   "id": "b805485d-b7a7-4d8c-941b-e93202220600",
   "metadata": {},
   "source": [
    "#### Q15: List the titles of movies along with their runtimes converted from minutes to hours."
   ]
  },
  {
   "cell_type": "code",
   "execution_count": null,
   "id": "b8901f03-b06f-498d-a716-cf9809d4905d",
   "metadata": {},
   "outputs": [],
   "source": [
    "pd.read_sql(\"\"\"\n",
    "    SELECT \n",
    "        primaryTitle, runtimeMinutes\n",
    "    FROM title_basics\n",
    "    WHERE titleType = \"movie\" AND runtimeMinutes IS NOT NULL;\n",
    "\"\"\", conn)"
   ]
  },
  {
   "cell_type": "markdown",
   "id": "1a17006b-5cdb-475b-ad42-efc5fbc172f3",
   "metadata": {},
   "source": [
    "#### Q16: What are all movies that got released between 2000 and 2010, inclusive?"
   ]
  },
  {
   "cell_type": "code",
   "execution_count": null,
   "id": "89daab43-ee26-4d27-b065-b0bcafcb6f78",
   "metadata": {},
   "outputs": [],
   "source": [
    "pd.read_sql(\"\"\"\n",
    "    SELECT *\n",
    "    FROM title_basics\n",
    "    WHERE titleType = \"movie\" AND \n",
    "\"\"\", conn)"
   ]
  },
  {
   "cell_type": "markdown",
   "id": "8b34bddd-9339-47ce-b349-2587e157d1a7",
   "metadata": {},
   "source": [
    "### SQL Subqueries"
   ]
  },
  {
   "cell_type": "markdown",
   "id": "5f18880b-85a1-4651-a454-562d5fd08eb0",
   "metadata": {},
   "source": [
    "#### Q17: What is the shortest movie released after 2010?"
   ]
  },
  {
   "cell_type": "code",
   "execution_count": null,
   "id": "bbc769d3-49a0-4028-87a2-b6582657a9a4",
   "metadata": {},
   "outputs": [],
   "source": [
    "pd.read_sql(\"\"\"\n",
    "    SELECT\n",
    "    FROM title_basics\n",
    "    WHERE startYear > 2010 AND titleType = 'movie' AND runtimeMinutes IS NOT NULL\n",
    "\"\"\", conn)"
   ]
  },
  {
   "cell_type": "code",
   "execution_count": null,
   "id": "7f798dd0-39d4-4695-b7a8-c158da15b09d",
   "metadata": {},
   "outputs": [],
   "source": [
    "pd.read_sql(\"\"\"\n",
    "    SELECT *\n",
    "    FROM title_basics\n",
    "    WHERE runtimeMinutes\n",
    "\"\"\", conn)"
   ]
  },
  {
   "cell_type": "markdown",
   "id": "43fd2fe3-22de-48bb-ba02-3bfdc9abd4f7",
   "metadata": {},
   "source": [
    "#### Q18: What is the longest movie released after 2010?"
   ]
  },
  {
   "cell_type": "code",
   "execution_count": null,
   "id": "47b71b88-10d1-4f23-a1af-a584bebe2400",
   "metadata": {},
   "outputs": [],
   "source": []
  },
  {
   "cell_type": "markdown",
   "id": "4425ab90-8d54-4922-9261-4f1e0853b8a2",
   "metadata": {},
   "source": [
    "#### Q19: What are the titles that have a runtime greater than the average runtime of all movies?"
   ]
  },
  {
   "cell_type": "code",
   "execution_count": null,
   "id": "9681986e-0d89-466f-8708-a49c28661094",
   "metadata": {},
   "outputs": [],
   "source": [
    "pd.read_sql(\"\"\"\n",
    "    SELECT \n",
    "    FROM title_basics\n",
    "    WHERE runtimeMinutes IS NOT NULL\n",
    "\"\"\", conn)"
   ]
  },
  {
   "cell_type": "code",
   "execution_count": null,
   "id": "e21bab8f-3311-46d8-a626-7223fc81d80b",
   "metadata": {},
   "outputs": [],
   "source": [
    "pd.read_sql(\"\"\"\n",
    "    SELECT *\n",
    "    FROM title_basics\n",
    "    WHERE runtimeMinutes\n",
    "\"\"\", conn)"
   ]
  },
  {
   "cell_type": "markdown",
   "id": "9224236c-2c16-4dfc-adbc-e4dde1ae0fa9",
   "metadata": {},
   "source": [
    "#### Q20: What are the most recent movies?"
   ]
  },
  {
   "cell_type": "code",
   "execution_count": null,
   "id": "368cf28a-b4e9-4bb5-83ee-e238f2f43236",
   "metadata": {},
   "outputs": [],
   "source": []
  },
  {
   "cell_type": "code",
   "execution_count": null,
   "id": "33433214-cc8d-4de7-82e9-664499d8c440",
   "metadata": {},
   "outputs": [],
   "source": []
  },
  {
   "cell_type": "markdown",
   "id": "9c5a2da5-0f16-47b9-840b-370ed62715c4",
   "metadata": {},
   "source": [
    "#### Q21: Find the number of movies that have more than one genre."
   ]
  },
  {
   "cell_type": "markdown",
   "id": "7f6640e3-5f2e-4307-8059-4a8eb49b8e59",
   "metadata": {},
   "source": [
    "We can find number of genres by simply counting number of commas and adding 1 to that count. Let's first determine length of genres column."
   ]
  },
  {
   "cell_type": "code",
   "execution_count": null,
   "id": "04df0e3c-97ee-407e-9181-69102056cad3",
   "metadata": {},
   "outputs": [],
   "source": [
    "pd.read_sql(\"\"\"\n",
    "    SELECT genres, ?\n",
    "    FROM title_basics\n",
    "\"\"\", conn)"
   ]
  },
  {
   "cell_type": "markdown",
   "id": "896e5cfd-4f4d-4a39-b989-11ce87081242",
   "metadata": {},
   "source": [
    "To find, number of commas, we can replace commas with nothing and find difference between original string and the replaced string."
   ]
  },
  {
   "cell_type": "code",
   "execution_count": null,
   "id": "28209d40-541e-4092-a36b-f61051c2dbe7",
   "metadata": {},
   "outputs": [],
   "source": [
    "pd.read_sql(\"\"\"\n",
    "    SELECT genres, LENGTH(genres) - LENGTH(REPLACE(genres, ',', '')) + 1\n",
    "    FROM title_basics\n",
    "\"\"\", conn)"
   ]
  },
  {
   "cell_type": "markdown",
   "id": "c4a7e6d8-fbf0-4be3-a450-a7b9c419c106",
   "metadata": {},
   "source": [
    "Now putting it together in a subquery."
   ]
  },
  {
   "cell_type": "code",
   "execution_count": null,
   "id": "1001ea30-f5db-4221-b46d-ed8ab4e63fe8",
   "metadata": {},
   "outputs": [],
   "source": [
    "pd.read_sql(\"\"\"\n",
    "    SELECT COUNT(*)\n",
    "    FROM title_basics\n",
    "    WHERE (\n",
    "        SELECT LENGTH(genres) - LENGTH(REPLACE(genres, ',', '')) + 1\n",
    "    ) > 1;\n",
    "\"\"\", conn)"
   ]
  },
  {
   "cell_type": "markdown",
   "id": "e7658578-9964-4d25-babd-a2b26cf1c5f0",
   "metadata": {},
   "source": [
    "#### Q22: Find the titles of movies that have the maximum number of genres."
   ]
  },
  {
   "cell_type": "code",
   "execution_count": null,
   "id": "880b94c8-a826-493e-9d9e-774ccc666fc8",
   "metadata": {},
   "outputs": [],
   "source": [
    "pd.read_sql(\"\"\"\n",
    "    SELECT primaryTitle, genres\n",
    "    FROM title_basics\n",
    "    WHERE \n",
    "\"\"\", conn)"
   ]
  },
  {
   "cell_type": "markdown",
   "id": "52cad272-dcf8-4f0a-8715-f64fa509415f",
   "metadata": {},
   "source": [
    "#### Q23: Find the titles of movies that belong to the same genres as those with a runtime longer than 150 minutes."
   ]
  },
  {
   "cell_type": "code",
   "execution_count": null,
   "id": "28658f77-cc10-462c-921c-2c14b66e30af",
   "metadata": {},
   "outputs": [],
   "source": [
    "pd.read_sql(\"\"\"\n",
    "    SELECT genres\n",
    "    FROM title_basics\n",
    "    WHERE titleType = \"movie\" AND runtimeMinutes > 150 AND genres IS NOT NULL\n",
    "\"\"\", conn)"
   ]
  },
  {
   "cell_type": "code",
   "execution_count": null,
   "id": "2498ecf1-506e-42b3-b00f-6dc282ec8442",
   "metadata": {},
   "outputs": [],
   "source": [
    "pd.read_sql(\"\"\"\n",
    "    SELECT *\n",
    "    FROM title_basics\n",
    "    WHERE genres \n",
    "\"\"\", conn)"
   ]
  },
  {
   "cell_type": "markdown",
   "id": "68483766-7cbd-42f2-8945-5735aed1cd9a",
   "metadata": {},
   "source": [
    "### JOINs"
   ]
  },
  {
   "cell_type": "markdown",
   "id": "9f53dc20-9175-4f54-8386-a7a8f063c0e7",
   "metadata": {},
   "source": [
    "#### Q24: Find all movies and their corresponding ratings."
   ]
  },
  {
   "cell_type": "code",
   "execution_count": null,
   "id": "53abd80b-9e65-4bc0-9807-6988a9eab2e5",
   "metadata": {},
   "outputs": [],
   "source": [
    "pd.read_sql(\"\"\"\n",
    "    \n",
    "\"\"\", conn)"
   ]
  },
  {
   "cell_type": "markdown",
   "id": "379b8040-a786-4b17-b35a-e5f25a8fe3cc",
   "metadata": {},
   "source": [
    "#### Q25: List all movies and their associated genres."
   ]
  },
  {
   "cell_type": "code",
   "execution_count": null,
   "id": "5225e5b3-cc0d-4166-9500-2d8f6a4738d3",
   "metadata": {},
   "outputs": [],
   "source": [
    "pd.read_sql(\"\"\"\n",
    "    \n",
    "\"\"\", conn)"
   ]
  },
  {
   "cell_type": "markdown",
   "id": "f7bc3c8b-419c-4af0-96c2-a7483abe7499",
   "metadata": {},
   "source": [
    "#### Q26: Find all crew members and the movies they worked on."
   ]
  },
  {
   "cell_type": "code",
   "execution_count": null,
   "id": "ca2e8121-7c55-4e05-90f0-06170f0fc522",
   "metadata": {},
   "outputs": [],
   "source": [
    "pd.read_sql(\"\"\"\n",
    "    \n",
    "\"\"\", conn)"
   ]
  },
  {
   "cell_type": "code",
   "execution_count": null,
   "id": "7b7d3866-7499-42fa-b73a-711e41e83775",
   "metadata": {},
   "outputs": [],
   "source": []
  }
 ],
 "metadata": {
  "kernelspec": {
   "display_name": "Python 3 (ipykernel)",
   "language": "python",
   "name": "python3"
  },
  "language_info": {
   "codemirror_mode": {
    "name": "ipython",
    "version": 3
   },
   "file_extension": ".py",
   "mimetype": "text/x-python",
   "name": "python",
   "nbconvert_exporter": "python",
   "pygments_lexer": "ipython3",
   "version": "3.10.12"
  }
 },
 "nbformat": 4,
 "nbformat_minor": 5
}

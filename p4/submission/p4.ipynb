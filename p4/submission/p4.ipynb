{
 "cells": [
  {
   "cell_type": "markdown",
   "id": "ca79156f-02a8-402a-a829-79b8512c29e7",
   "metadata": {},
   "source": [
    "# Code"
   ]
  },
  {
   "cell_type": "markdown",
   "id": "1a1de085-41b6-49c5-9156-388a2f9877c2",
   "metadata": {},
   "source": [
    "## Section 1: Setup environment (15 points in total)"
   ]
  },
  {
   "cell_type": "markdown",
   "id": "401d42a0-4e97-41ed-9119-109d2d257ac2",
   "metadata": {},
   "source": [
    "### Q3: Install DBT using Miniconda (0.5 points)"
   ]
  },
  {
   "cell_type": "code",
   "execution_count": 1,
   "id": "6dc13386-814b-4136-84c5-d92b91f69517",
   "metadata": {},
   "outputs": [
    {
     "name": "stdout",
     "output_type": "stream",
     "text": [
      "/home/badri/miniconda3/envs/p4-env/bin/dbt\n"
     ]
    }
   ],
   "source": [
    "! which dbt"
   ]
  },
  {
   "cell_type": "markdown",
   "id": "e0fcb049-ea84-47df-9b08-205ea2619e74",
   "metadata": {},
   "source": [
    "### Q9: Use dbt to transform the column names to single word or two-word names with \"_\" separator and create a view named survey_transformed. (4 points)"
   ]
  },
  {
   "cell_type": "code",
   "execution_count": 1,
   "id": "34b9ae4d-62b3-4d2a-9ad2-d54f826c1673",
   "metadata": {},
   "outputs": [
    {
     "name": "stdout",
     "output_type": "stream",
     "text": [
      "p4_data_pipeline:\n",
      "  outputs:\n",
      "    dev:\n",
      "      account: zmlqfxg-sb16509\n",
      "      database: SURVEY_DATABASE\n",
      "      role: P4_ROLE\n",
      "      schema: SURVEY_SCHEMA\n",
      "      threads: 1\n",
      "      type: snowflake\n",
      "      user: bmuralikrish\n",
      "      warehouse: P4_WAREHOUSE\n",
      "  target: dev\n"
     ]
    }
   ],
   "source": [
    "! grep -v 'password' ~/.dbt/profiles.yml"
   ]
  },
  {
   "cell_type": "code",
   "execution_count": 2,
   "id": "f822ecaf-33ab-4f75-975d-304afda5d365",
   "metadata": {},
   "outputs": [
    {
     "name": "stdout",
     "output_type": "stream",
     "text": [
      "version: 2\n",
      "\n",
      "sources:\n",
      "  - name: P4\n",
      "    database: SURVEY_DATABASE\n",
      "    schema: SURVEY_SCHEMA\n",
      "    tables:\n",
      "      - name: SURVEY\n",
      "\n",
      "models:\n",
      "  - name: transform_survey\n",
      "    description: \"Cleaned and renamed survey data\"\n",
      "\n"
     ]
    }
   ],
   "source": [
    "! cat ~/p4_data_pipeline/models/schema.yml"
   ]
  },
  {
   "cell_type": "code",
   "execution_count": 3,
   "id": "b9c556e5-ac46-488e-9b8e-0131986e5466",
   "metadata": {},
   "outputs": [
    {
     "name": "stdout",
     "output_type": "stream",
     "text": [
      "with transformed_survey as (\n",
      "  select\n",
      "    \"TIMESTAMP\",\n",
      "    \"EMAIL_ADDRESS\" as email_address,\n",
      "    \"WHAT_IS_YOUR_AGE_\" as age,\n",
      "    \"WHAT_IS_YOUR_FAVORITE_HOBBY_\" as favorite_hobby,\n",
      "    \"WHAT_IS_YOUR_CURRENT_STANDING\" as academic_standing,\n",
      "    \"WHAT_IS_YOUR_FAVORITE_PIZZA_TOPPING_\" as favorite_pizza_topping,\n",
      "    \"HAVE_YOU_EVER_IN_YOUR_LIFE_HAD_A_PET_\" as has_had_pet,\n",
      "    \"DO_YOU_CONSIDER_YOURSELF_A_PROCRASTINATOR_\" as procrastinator,\n",
      "    \"WHAT_FACTOR_INFLUENCES_YOUR_COURSE_SELECTION_THE_MOST_\" as course_selection_factor,\n",
      "    \"IF_YOU_HAD_AN_EXTRA_HOUR_IN_YOUR_DAY_HOW_WOULD_YOU_SPEND_IT_\" as extra_hour_activity,\n",
      "    \"WOULD_YOU_DESCRIBE_YOURSELF_AS_AN_EARLY_BIRD_OR_A_NIGHT_OWL_\" as sleep_rhythm,\n",
      "    \"ARE_YOU_A_RUNNER_CONSIDER_BOTH_RUNNING_ON_TREADMILL_AND_OUTDOORS_\" as runner,\n",
      "    \"IF_YOU_HAVE_SECONDARY_MAJORS_PLEASE_LIST_THEM_HERE_SEPARATED_BY_A_COMMA_\" as secondary_majors,\n",
      "    \"WHICH_BEST_DESCRIBES_YOUR_PRIMARY_MAJOR_OR_FIELD_OF_STUDY_IF_YOU_HAVE_MORE_THAN_ONE_MAJOR_PLEASE_SPECIFY_OTHER_MAJORS_AS_PART_OF_THE_NEXT_QUESTION_\" as primary_major,\n",
      "    \"WHAT_IS_THE_5_DIGIT_ZIP_CODE_OF_YOUR_RESIDENCE_WHILE_ATTENDING_CLASSES_IF_YOU_ARE_NOT_SURE_CHECK_HERE_HTTPS_TOOLS_USPS_COM_ZIP_CODE_LOOKUP_HTM_BYADDRESS_\" as zip_code\n",
      "  from {{ source('P4', 'SURVEY') }}\n",
      ")\n",
      "\n",
      "select * from transformed_survey\n",
      "\n"
     ]
    }
   ],
   "source": [
    "! cat ~/p4_data_pipeline/models/staging/transform_survey.sql"
   ]
  },
  {
   "cell_type": "markdown",
   "id": "2fce36a6",
   "metadata": {},
   "source": [
    "## Section 2: Custom student dataset analysis (7 points in total)"
   ]
  },
  {
   "cell_type": "markdown",
   "id": "5be2e959",
   "metadata": {},
   "source": [
    "## Imports & Snowflake Connection"
   ]
  },
  {
   "cell_type": "code",
   "execution_count": 1,
   "id": "6b313438",
   "metadata": {},
   "outputs": [],
   "source": [
    "import pandas as pd\n",
    "import matplotlib.pyplot as plt\n",
    "import snowflake.connector"
   ]
  },
  {
   "cell_type": "code",
   "execution_count": 2,
   "id": "cc6afab4",
   "metadata": {},
   "outputs": [],
   "source": [
    "with open(\"snowflake_password.txt\", \"r\") as file:\n",
    "    snowflake_password = file.read()\n",
    "    snowflake_password = snowflake_password.strip()"
   ]
  },
  {
   "cell_type": "code",
   "execution_count": 3,
   "id": "86998768",
   "metadata": {},
   "outputs": [],
   "source": [
    "connector = snowflake.connector.connect(\n",
    "    user=\"bmuralikrish\",\n",
    "    password=snowflake_password,\n",
    "    account=\"zmlqfxg-sb16509\",\n",
    "    warehouse=\"P4_WAREHOUSE\",\n",
    "    database=\"STOCK_DB\",\n",
    "    schema=\"STOCK_SCHEMA\",\n",
    "    role=\"P4_ROLE\",\n",
    ")"
   ]
  },
  {
   "cell_type": "markdown",
   "id": "d598ff7e",
   "metadata": {},
   "source": [
    "### Q10: How many students are in each academic standing? (1 point)"
   ]
  },
  {
   "cell_type": "code",
   "execution_count": 4,
   "id": "81ffa4e2",
   "metadata": {},
   "outputs": [
    {
     "name": "stderr",
     "output_type": "stream",
     "text": [
      "/tmp/ipykernel_353868/2111847130.py:9: UserWarning: pandas only supports SQLAlchemy connectable (engine/connection) or database string URI or sqlite3 DBAPI2 connection. Other DBAPI2 objects are not tested. Please consider using SQLAlchemy.\n",
      "  df = pd.read_sql(query, connector)\n"
     ]
    },
    {
     "data": {
      "text/html": [
       "<div>\n",
       "<style scoped>\n",
       "    .dataframe tbody tr th:only-of-type {\n",
       "        vertical-align: middle;\n",
       "    }\n",
       "\n",
       "    .dataframe tbody tr th {\n",
       "        vertical-align: top;\n",
       "    }\n",
       "\n",
       "    .dataframe thead th {\n",
       "        text-align: right;\n",
       "    }\n",
       "</style>\n",
       "<table border=\"1\" class=\"dataframe\">\n",
       "  <thead>\n",
       "    <tr style=\"text-align: right;\">\n",
       "      <th></th>\n",
       "      <th>ACADEMIC_STANDING</th>\n",
       "      <th>COUNT</th>\n",
       "    </tr>\n",
       "  </thead>\n",
       "  <tbody>\n",
       "    <tr>\n",
       "      <th>0</th>\n",
       "      <td>Senior</td>\n",
       "      <td>67</td>\n",
       "    </tr>\n",
       "    <tr>\n",
       "      <th>1</th>\n",
       "      <td>Junior</td>\n",
       "      <td>50</td>\n",
       "    </tr>\n",
       "    <tr>\n",
       "      <th>2</th>\n",
       "      <td>Sophomore</td>\n",
       "      <td>23</td>\n",
       "    </tr>\n",
       "    <tr>\n",
       "      <th>3</th>\n",
       "      <td>Grad</td>\n",
       "      <td>19</td>\n",
       "    </tr>\n",
       "  </tbody>\n",
       "</table>\n",
       "</div>"
      ],
      "text/plain": [
       "  ACADEMIC_STANDING  COUNT\n",
       "0            Senior     67\n",
       "1            Junior     50\n",
       "2         Sophomore     23\n",
       "3              Grad     19"
      ]
     },
     "execution_count": 4,
     "metadata": {},
     "output_type": "execute_result"
    }
   ],
   "source": [
    "query = \"\"\"\n",
    "SELECT \n",
    "    ACADEMIC_STANDING, \n",
    "    COUNT(*) AS count\n",
    "FROM SURVEY_DATABASE.SURVEY_SCHEMA.TRANSFORM_SURVEY\n",
    "GROUP BY ACADEMIC_STANDING\n",
    "ORDER BY count DESC;\n",
    "\"\"\"\n",
    "df = pd.read_sql(query, connector)\n",
    "df"
   ]
  },
  {
   "cell_type": "code",
   "execution_count": 5,
   "id": "ece719d8",
   "metadata": {},
   "outputs": [
    {
     "data": {
      "image/png": "[encoded data removed]",
      "text/plain": [
       "<Figure size 800x600 with 1 Axes>"
      ]
     },
     "metadata": {},
     "output_type": "display_data"
    }
   ],
   "source": [
    "fig, ax = plt.subplots(figsize=(8, 6))\n",
    "wedges, texts, autotexts = ax.pie(\n",
    "    df[\"COUNT\"],\n",
    "    labels=df[\"ACADEMIC_STANDING\"],\n",
    "    autopct=\"%1.2f%%\",\n",
    "    explode=[0.05] * len(df),\n",
    "    shadow=True,\n",
    "    startangle=140,\n",
    "    textprops=dict(color=\"white\"),\n",
    ")\n",
    "ax.legend(\n",
    "    wedges,\n",
    "    df[\"ACADEMIC_STANDING\"],\n",
    "    title=\"Academic Standing\",\n",
    "    loc=\"center left\",\n",
    "    bbox_to_anchor=(1, 0, 0.5, 1),\n",
    ")\n",
    "ax.axis(\"equal\")\n",
    "plt.title(\"Student Distribution by Academic Standing\")\n",
    "plt.tight_layout()\n",
    "plt.show()"
   ]
  },
  {
   "cell_type": "markdown",
   "id": "eab18833",
   "metadata": {},
   "source": [
    "### Q11: What is the average age of students in each academic standing? (1 point)"
   ]
  },
  {
   "cell_type": "code",
   "execution_count": 6,
   "id": "621fb359",
   "metadata": {},
   "outputs": [
    {
     "name": "stderr",
     "output_type": "stream",
     "text": [
      "/tmp/ipykernel_353868/2498772714.py:9: UserWarning: pandas only supports SQLAlchemy connectable (engine/connection) or database string URI or sqlite3 DBAPI2 connection. Other DBAPI2 objects are not tested. Please consider using SQLAlchemy.\n",
      "  df = pd.read_sql(query, connector)\n"
     ]
    },
    {
     "data": {
      "text/html": [
       "<div>\n",
       "<style scoped>\n",
       "    .dataframe tbody tr th:only-of-type {\n",
       "        vertical-align: middle;\n",
       "    }\n",
       "\n",
       "    .dataframe tbody tr th {\n",
       "        vertical-align: top;\n",
       "    }\n",
       "\n",
       "    .dataframe thead th {\n",
       "        text-align: right;\n",
       "    }\n",
       "</style>\n",
       "<table border=\"1\" class=\"dataframe\">\n",
       "  <thead>\n",
       "    <tr style=\"text-align: right;\">\n",
       "      <th></th>\n",
       "      <th>ACADEMIC_STANDING</th>\n",
       "      <th>AVG_AGE</th>\n",
       "    </tr>\n",
       "  </thead>\n",
       "  <tbody>\n",
       "    <tr>\n",
       "      <th>0</th>\n",
       "      <td>Grad</td>\n",
       "      <td>24.421053</td>\n",
       "    </tr>\n",
       "    <tr>\n",
       "      <th>1</th>\n",
       "      <td>Senior</td>\n",
       "      <td>21.552239</td>\n",
       "    </tr>\n",
       "    <tr>\n",
       "      <th>2</th>\n",
       "      <td>Junior</td>\n",
       "      <td>20.560000</td>\n",
       "    </tr>\n",
       "    <tr>\n",
       "      <th>3</th>\n",
       "      <td>Sophomore</td>\n",
       "      <td>19.956522</td>\n",
       "    </tr>\n",
       "  </tbody>\n",
       "</table>\n",
       "</div>"
      ],
      "text/plain": [
       "  ACADEMIC_STANDING    AVG_AGE\n",
       "0              Grad  24.421053\n",
       "1            Senior  21.552239\n",
       "2            Junior  20.560000\n",
       "3         Sophomore  19.956522"
      ]
     },
     "execution_count": 6,
     "metadata": {},
     "output_type": "execute_result"
    }
   ],
   "source": [
    "query = \"\"\"\n",
    "SELECT \n",
    "    ACADEMIC_STANDING, \n",
    "    AVG(CAST(AGE AS FLOAT)) AS avg_age\n",
    "FROM SURVEY_DATABASE.SURVEY_SCHEMA.TRANSFORM_SURVEY\n",
    "GROUP BY ACADEMIC_STANDING\n",
    "ORDER BY avg_age DESC;\n",
    "\"\"\"\n",
    "df = pd.read_sql(query, connector)\n",
    "df"
   ]
  },
  {
   "cell_type": "code",
   "execution_count": 7,
   "id": "65af3e16",
   "metadata": {},
   "outputs": [
    {
     "data": {
      "image/png": "[encoded data removed]",
      "text/plain": [
       "<Figure size 800x500 with 1 Axes>"
      ]
     },
     "metadata": {},
     "output_type": "display_data"
    }
   ],
   "source": [
    "plt.figure(figsize=(8, 5))\n",
    "plt.bar(df[\"ACADEMIC_STANDING\"], df[\"AVG_AGE\"], color=\"brown\")\n",
    "plt.title(\"Average Age by Academic Standing\")\n",
    "plt.xlabel(\"Standing\")\n",
    "plt.ylabel(\"Average Age\")\n",
    "plt.xticks(rotation=45)\n",
    "plt.grid(axis=\"y\", linestyle=\"--\", alpha=0.7)\n",
    "plt.tight_layout()\n",
    "plt.show()"
   ]
  },
  {
   "cell_type": "markdown",
   "id": "ef2ab6c5",
   "metadata": {},
   "source": [
    "### Q12: What percentage of students would choose to sleep if they had an extra hour in their day? (1 point)"
   ]
  },
  {
   "cell_type": "code",
   "execution_count": 8,
   "id": "64f900c9",
   "metadata": {},
   "outputs": [
    {
     "name": "stderr",
     "output_type": "stream",
     "text": [
      "/tmp/ipykernel_353868/3481716600.py:10: UserWarning: pandas only supports SQLAlchemy connectable (engine/connection) or database string URI or sqlite3 DBAPI2 connection. Other DBAPI2 objects are not tested. Please consider using SQLAlchemy.\n",
      "  df = pd.read_sql(query, connector)\n"
     ]
    },
    {
     "data": {
      "text/html": [
       "<div>\n",
       "<style scoped>\n",
       "    .dataframe tbody tr th:only-of-type {\n",
       "        vertical-align: middle;\n",
       "    }\n",
       "\n",
       "    .dataframe tbody tr th {\n",
       "        vertical-align: top;\n",
       "    }\n",
       "\n",
       "    .dataframe thead th {\n",
       "        text-align: right;\n",
       "    }\n",
       "</style>\n",
       "<table border=\"1\" class=\"dataframe\">\n",
       "  <thead>\n",
       "    <tr style=\"text-align: right;\">\n",
       "      <th></th>\n",
       "      <th>SLEEP_PERCENTAGE</th>\n",
       "    </tr>\n",
       "  </thead>\n",
       "  <tbody>\n",
       "    <tr>\n",
       "      <th>0</th>\n",
       "      <td>27.04</td>\n",
       "    </tr>\n",
       "  </tbody>\n",
       "</table>\n",
       "</div>"
      ],
      "text/plain": [
       "   SLEEP_PERCENTAGE\n",
       "0             27.04"
      ]
     },
     "execution_count": 8,
     "metadata": {},
     "output_type": "execute_result"
    }
   ],
   "source": [
    "query = \"\"\"\n",
    "SELECT\n",
    "  ROUND(\n",
    "    100.0 * COUNT_IF(EXTRA_HOUR_ACTIVITY = 'Sleeping')\n",
    "    / COUNT(*),\n",
    "    2\n",
    "  ) AS sleep_percentage\n",
    "FROM SURVEY_DATABASE.SURVEY_SCHEMA.TRANSFORM_SURVEY;\n",
    "\"\"\"\n",
    "df = pd.read_sql(query, connector)\n",
    "df"
   ]
  },
  {
   "cell_type": "markdown",
   "id": "7f8fb218",
   "metadata": {},
   "source": [
    "### Q13: What is the academic standing and course selection factor of the student with email `bmuralikrish@wisc.edu`? (1 point)"
   ]
  },
  {
   "cell_type": "code",
   "execution_count": 9,
   "id": "a854f2ab",
   "metadata": {},
   "outputs": [
    {
     "name": "stderr",
     "output_type": "stream",
     "text": [
      "/tmp/ipykernel_353868/3580348317.py:9: UserWarning: pandas only supports SQLAlchemy connectable (engine/connection) or database string URI or sqlite3 DBAPI2 connection. Other DBAPI2 objects are not tested. Please consider using SQLAlchemy.\n",
      "  df = pd.read_sql(query, connector)\n"
     ]
    },
    {
     "data": {
      "text/html": [
       "<div>\n",
       "<style scoped>\n",
       "    .dataframe tbody tr th:only-of-type {\n",
       "        vertical-align: middle;\n",
       "    }\n",
       "\n",
       "    .dataframe tbody tr th {\n",
       "        vertical-align: top;\n",
       "    }\n",
       "\n",
       "    .dataframe thead th {\n",
       "        text-align: right;\n",
       "    }\n",
       "</style>\n",
       "<table border=\"1\" class=\"dataframe\">\n",
       "  <thead>\n",
       "    <tr style=\"text-align: right;\">\n",
       "      <th></th>\n",
       "      <th>EMAIL_ADDRESS</th>\n",
       "      <th>ACADEMIC_STANDING</th>\n",
       "      <th>COURSE_SELECTION_FACTOR</th>\n",
       "    </tr>\n",
       "  </thead>\n",
       "  <tbody>\n",
       "    <tr>\n",
       "      <th>0</th>\n",
       "      <td>bmuralikrish@wisc.edu</td>\n",
       "      <td>Grad</td>\n",
       "      <td>Interest in the subject</td>\n",
       "    </tr>\n",
       "  </tbody>\n",
       "</table>\n",
       "</div>"
      ],
      "text/plain": [
       "           EMAIL_ADDRESS ACADEMIC_STANDING  COURSE_SELECTION_FACTOR\n",
       "0  bmuralikrish@wisc.edu              Grad  Interest in the subject"
      ]
     },
     "execution_count": 9,
     "metadata": {},
     "output_type": "execute_result"
    }
   ],
   "source": [
    "query = \"\"\"\n",
    "SELECT\n",
    "    EMAIL_ADDRESS,\n",
    "    ACADEMIC_STANDING,\n",
    "    COURSE_SELECTION_FACTOR\n",
    "FROM SURVEY_DATABASE.SURVEY_SCHEMA.TRANSFORM_SURVEY\n",
    "WHERE EMAIL_ADDRESS = 'bmuralikrish@wisc.edu';\n",
    "\"\"\"\n",
    "df = pd.read_sql(query, connector)\n",
    "df"
   ]
  },
  {
   "cell_type": "markdown",
   "id": "cfccb101",
   "metadata": {},
   "source": [
    "### Q14: How many students have a secondary major? (1 point)"
   ]
  },
  {
   "cell_type": "code",
   "execution_count": 10,
   "id": "4eb94d3d",
   "metadata": {},
   "outputs": [
    {
     "name": "stderr",
     "output_type": "stream",
     "text": [
      "/tmp/ipykernel_353868/3360770553.py:12: UserWarning: pandas only supports SQLAlchemy connectable (engine/connection) or database string URI or sqlite3 DBAPI2 connection. Other DBAPI2 objects are not tested. Please consider using SQLAlchemy.\n",
      "  df = pd.read_sql(query, connector)\n"
     ]
    },
    {
     "data": {
      "text/html": [
       "<div>\n",
       "<style scoped>\n",
       "    .dataframe tbody tr th:only-of-type {\n",
       "        vertical-align: middle;\n",
       "    }\n",
       "\n",
       "    .dataframe tbody tr th {\n",
       "        vertical-align: top;\n",
       "    }\n",
       "\n",
       "    .dataframe thead th {\n",
       "        text-align: right;\n",
       "    }\n",
       "</style>\n",
       "<table border=\"1\" class=\"dataframe\">\n",
       "  <thead>\n",
       "    <tr style=\"text-align: right;\">\n",
       "      <th></th>\n",
       "      <th>SECONDARY_MAJOR</th>\n",
       "      <th>COUNT</th>\n",
       "    </tr>\n",
       "  </thead>\n",
       "  <tbody>\n",
       "    <tr>\n",
       "      <th>0</th>\n",
       "      <td>No</td>\n",
       "      <td>93</td>\n",
       "    </tr>\n",
       "    <tr>\n",
       "      <th>1</th>\n",
       "      <td>Yes</td>\n",
       "      <td>66</td>\n",
       "    </tr>\n",
       "  </tbody>\n",
       "</table>\n",
       "</div>"
      ],
      "text/plain": [
       "  SECONDARY_MAJOR  COUNT\n",
       "0              No     93\n",
       "1             Yes     66"
      ]
     },
     "execution_count": 10,
     "metadata": {},
     "output_type": "execute_result"
    }
   ],
   "source": [
    "query = \"\"\"\n",
    "SELECT\n",
    "  CASE\n",
    "    WHEN SECONDARY_MAJORS IS NULL\n",
    "    THEN 'No'\n",
    "    ELSE 'Yes'\n",
    "  END AS SECONDARY_MAJOR,\n",
    "  COUNT(*) AS count\n",
    "FROM SURVEY_DATABASE.SURVEY_SCHEMA.TRANSFORM_SURVEY\n",
    "GROUP BY SECONDARY_MAJOR;\n",
    "\"\"\"\n",
    "df = pd.read_sql(query, connector)\n",
    "df"
   ]
  },
  {
   "cell_type": "markdown",
   "id": "cf5fbd79",
   "metadata": {},
   "source": [
    "### Q15: What are the top 5 most common ZIP codes among students? (1 point)"
   ]
  },
  {
   "cell_type": "code",
   "execution_count": 11,
   "id": "d85eb398",
   "metadata": {},
   "outputs": [
    {
     "name": "stderr",
     "output_type": "stream",
     "text": [
      "/tmp/ipykernel_353868/3519494612.py:10: UserWarning: pandas only supports SQLAlchemy connectable (engine/connection) or database string URI or sqlite3 DBAPI2 connection. Other DBAPI2 objects are not tested. Please consider using SQLAlchemy.\n",
      "  df = pd.read_sql(query, connector)\n"
     ]
    },
    {
     "data": {
      "text/html": [
       "<div>\n",
       "<style scoped>\n",
       "    .dataframe tbody tr th:only-of-type {\n",
       "        vertical-align: middle;\n",
       "    }\n",
       "\n",
       "    .dataframe tbody tr th {\n",
       "        vertical-align: top;\n",
       "    }\n",
       "\n",
       "    .dataframe thead th {\n",
       "        text-align: right;\n",
       "    }\n",
       "</style>\n",
       "<table border=\"1\" class=\"dataframe\">\n",
       "  <thead>\n",
       "    <tr style=\"text-align: right;\">\n",
       "      <th></th>\n",
       "      <th>ZIP_CODE</th>\n",
       "      <th>COUNT</th>\n",
       "    </tr>\n",
       "  </thead>\n",
       "  <tbody>\n",
       "    <tr>\n",
       "      <th>0</th>\n",
       "      <td>53703</td>\n",
       "      <td>68</td>\n",
       "    </tr>\n",
       "    <tr>\n",
       "      <th>1</th>\n",
       "      <td>53715</td>\n",
       "      <td>48</td>\n",
       "    </tr>\n",
       "    <tr>\n",
       "      <th>2</th>\n",
       "      <td>53706</td>\n",
       "      <td>11</td>\n",
       "    </tr>\n",
       "    <tr>\n",
       "      <th>3</th>\n",
       "      <td>53705</td>\n",
       "      <td>8</td>\n",
       "    </tr>\n",
       "    <tr>\n",
       "      <th>4</th>\n",
       "      <td>53711</td>\n",
       "      <td>7</td>\n",
       "    </tr>\n",
       "  </tbody>\n",
       "</table>\n",
       "</div>"
      ],
      "text/plain": [
       "  ZIP_CODE  COUNT\n",
       "0    53703     68\n",
       "1    53715     48\n",
       "2    53706     11\n",
       "3    53705      8\n",
       "4    53711      7"
      ]
     },
     "execution_count": 11,
     "metadata": {},
     "output_type": "execute_result"
    }
   ],
   "source": [
    "query = \"\"\"\n",
    "SELECT \n",
    "  ZIP_CODE,\n",
    "  COUNT(*) AS count\n",
    "FROM SURVEY_DATABASE.SURVEY_SCHEMA.TRANSFORM_SURVEY\n",
    "GROUP BY ZIP_CODE\n",
    "ORDER BY count DESC\n",
    "LIMIT 5;\n",
    "\"\"\"\n",
    "df = pd.read_sql(query, connector)\n",
    "df"
   ]
  },
  {
   "cell_type": "markdown",
   "id": "120ca715",
   "metadata": {},
   "source": [
    "### Q16: How do Night Owls prefer to spend an extra hour in their day? (1 point)"
   ]
  },
  {
   "cell_type": "code",
   "execution_count": 12,
   "id": "7c8510af",
   "metadata": {},
   "outputs": [
    {
     "name": "stderr",
     "output_type": "stream",
     "text": [
      "/tmp/ipykernel_353868/2564664899.py:10: UserWarning: pandas only supports SQLAlchemy connectable (engine/connection) or database string URI or sqlite3 DBAPI2 connection. Other DBAPI2 objects are not tested. Please consider using SQLAlchemy.\n",
      "  df = pd.read_sql(query, connector)\n"
     ]
    },
    {
     "data": {
      "text/html": [
       "<div>\n",
       "<style scoped>\n",
       "    .dataframe tbody tr th:only-of-type {\n",
       "        vertical-align: middle;\n",
       "    }\n",
       "\n",
       "    .dataframe tbody tr th {\n",
       "        vertical-align: top;\n",
       "    }\n",
       "\n",
       "    .dataframe thead th {\n",
       "        text-align: right;\n",
       "    }\n",
       "</style>\n",
       "<table border=\"1\" class=\"dataframe\">\n",
       "  <thead>\n",
       "    <tr style=\"text-align: right;\">\n",
       "      <th></th>\n",
       "      <th>EXTRA_HOUR_ACTIVITY</th>\n",
       "      <th>COUNT</th>\n",
       "    </tr>\n",
       "  </thead>\n",
       "  <tbody>\n",
       "    <tr>\n",
       "      <th>0</th>\n",
       "      <td>Sleeping</td>\n",
       "      <td>34</td>\n",
       "    </tr>\n",
       "    <tr>\n",
       "      <th>1</th>\n",
       "      <td>Working on a hobby</td>\n",
       "      <td>24</td>\n",
       "    </tr>\n",
       "    <tr>\n",
       "      <th>2</th>\n",
       "      <td>Exercising</td>\n",
       "      <td>19</td>\n",
       "    </tr>\n",
       "    <tr>\n",
       "      <th>3</th>\n",
       "      <td>Playing video games</td>\n",
       "      <td>15</td>\n",
       "    </tr>\n",
       "    <tr>\n",
       "      <th>4</th>\n",
       "      <td>Reading for fun</td>\n",
       "      <td>9</td>\n",
       "    </tr>\n",
       "  </tbody>\n",
       "</table>\n",
       "</div>"
      ],
      "text/plain": [
       "   EXTRA_HOUR_ACTIVITY  COUNT\n",
       "0             Sleeping     34\n",
       "1   Working on a hobby     24\n",
       "2           Exercising     19\n",
       "3  Playing video games     15\n",
       "4      Reading for fun      9"
      ]
     },
     "execution_count": 12,
     "metadata": {},
     "output_type": "execute_result"
    }
   ],
   "source": [
    "query = \"\"\"\n",
    "SELECT \n",
    "    EXTRA_HOUR_ACTIVITY, \n",
    "    COUNT(*) AS count\n",
    "FROM SURVEY_DATABASE.SURVEY_SCHEMA.TRANSFORM_SURVEY\n",
    "WHERE SLEEP_RHYTHM = 'night owl'\n",
    "GROUP BY EXTRA_HOUR_ACTIVITY\n",
    "ORDER BY count DESC;\n",
    "\"\"\"\n",
    "df = pd.read_sql(query, connector)\n",
    "df"
   ]
  },
  {
   "cell_type": "markdown",
   "id": "d6a6aa30-0f46-488f-93c3-b10a35b42dab",
   "metadata": {},
   "source": [
    "## Section 3: Stock and foreign exchange (fx) dataset analysis (7 points in total)"
   ]
  },
  {
   "cell_type": "markdown",
   "id": "829a62cb-b0a4-4d7e-8298-aec50186f92f",
   "metadata": {},
   "source": [
    "### Q18: Configure ~/.dbt/profiles.yml for STOCK_DB (0.5 points)"
   ]
  },
  {
   "cell_type": "code",
   "execution_count": 1,
   "id": "0647b3d7-c326-4cb6-be1c-b8f3843324ce",
   "metadata": {},
   "outputs": [
    {
     "name": "stdout",
     "output_type": "stream",
     "text": [
      "p4_data_pipeline:\n",
      "  outputs:\n",
      "    dev:\n",
      "      type: snowflake\n",
      "      account: zmlqfxg-sb16509\n",
      "      user: bmuralikrish\n",
      "      role: P4_ROLE\n",
      "      database: SURVEY_DATABASE\n",
      "      warehouse: P4_WAREHOUSE\n",
      "      schema: SURVEY_SCHEMA\n",
      "      threads: 1\n",
      "\n",
      "    stock_db:\n",
      "      type: snowflake\n",
      "      account: zmlqfxg-sb16509\n",
      "      user: bmuralikrish\n",
      "      role: P4_ROLE\n",
      "      database: STOCK_DB\n",
      "      warehouse: P4_WAREHOUSE\n",
      "      schema: STOCK_SCHEMA\n",
      "      threads: 1\n",
      "\n",
      "  target: dev\n"
     ]
    }
   ],
   "source": [
    "! grep -v 'password' ~/.dbt/profiles.yml"
   ]
  },
  {
   "cell_type": "markdown",
   "id": "bf78ab67-2592-49b5-9dc1-70e74cfa928d",
   "metadata": {},
   "source": [
    "### Q19: Update models/schema.yml file to include new sources for STOCK_DB tables (0.5 points)"
   ]
  },
  {
   "cell_type": "code",
   "execution_count": 2,
   "id": "77c10243-0d96-47ff-adb7-7d4bcc7c0f90",
   "metadata": {},
   "outputs": [
    {
     "name": "stdout",
     "output_type": "stream",
     "text": [
      "version: 2\n",
      "\n",
      "sources:\n",
      "  - name: P4\n",
      "    database: SURVEY_DATABASE\n",
      "    schema: SURVEY_SCHEMA\n",
      "    tables:\n",
      "      - name: SURVEY\n",
      "\n",
      "  - name: stock_by_day\n",
      "    database: STOCK_TRACKING_DB\n",
      "    schema: STOCK\n",
      "    tables:\n",
      "      - name: US_STOCK_METRICS\n",
      "\n",
      "  - name: fx_by_day\n",
      "    database: FOREX_DB\n",
      "    schema: STOCK\n",
      "    tables:\n",
      "      - name: FOREX_METRICS\n",
      "\n",
      "  - name: airbyte_csv_data\n",
      "    database: STOCK_DB\n",
      "    schema: STOCK_SCHEMA\n",
      "    tables:\n",
      "      - name: TRADING_BOOKS\n",
      "      - name: WEIGHTS_TABLE\n",
      "\n",
      "models:\n",
      "  - name: transform_survey\n",
      "    description: \"Cleaned and renamed survey data\"\n",
      "\n"
     ]
    }
   ],
   "source": [
    "! cat ~/p4_data_pipeline/models/schema.yml"
   ]
  },
  {
   "cell_type": "markdown",
   "id": "d88283c3-949d-4e2f-925c-a7956cd4bd39",
   "metadata": {},
   "source": [
    "### Q20: Create dbt_project.yml file in your dbt project directory --- p4_data_pipeline (0.5 points)"
   ]
  },
  {
   "cell_type": "code",
   "execution_count": 13,
   "id": "bc6b4e7e-fe5d-4469-bc9b-e871103fdc3a",
   "metadata": {},
   "outputs": [
    {
     "name": "stdout",
     "output_type": "stream",
     "text": [
      "name: 'p4_data_pipeline'\n",
      "version: '1.0'\n",
      "config-version: 2\n",
      "\n",
      "profile: 'p4_data_pipeline'\n",
      "\n",
      "model-paths: [\"models\"]\n",
      "analysis-paths: [\"analysis\"]\n",
      "test-paths: [\"tests\"]\n",
      "seed-paths: [\"data\"]\n",
      "macro-paths: [\"macros\"]\n",
      "\n",
      "models:\n",
      "  p4_data_pipeline:\n",
      "    staging:\n",
      "      materialized: view\n",
      "      +warehouse: P4_WAREHOUSE\n",
      "    marts:\n",
      "      materialized: table\n",
      "      +warehouse: P4_WAREHOUSE\n",
      "\n"
     ]
    }
   ],
   "source": [
    "! cat ~/p4_data_pipeline/dbt_project.yml"
   ]
  },
  {
   "cell_type": "markdown",
   "id": "f84b7012-a312-4f35-8a6a-b668c0b1dc14",
   "metadata": {},
   "source": [
    "### Q21: Creating staging tables for FX and Stock (1 point)"
   ]
  },
  {
   "cell_type": "code",
   "execution_count": 14,
   "id": "fd2da55c-6287-42cb-b269-b606aac6fa09",
   "metadata": {},
   "outputs": [
    {
     "name": "stdout",
     "output_type": "stream",
     "text": [
      "select distinct\n",
      "    ticker,\n",
      "    trade_date as date\n",
      "from {{ source('airbyte_csv_data', 'TRADING_BOOKS') }}\n",
      "where desk = 'Equity Desk'\n"
     ]
    }
   ],
   "source": [
    "! cat ~/p4_data_pipeline/models/staging/staging_valid_stock_tickers.sql"
   ]
  },
  {
   "cell_type": "code",
   "execution_count": 15,
   "id": "04c11250-bd0e-41d1-ac28-b91c4f3fd6bf",
   "metadata": {},
   "outputs": [
    {
     "name": "stdout",
     "output_type": "stream",
     "text": [
      "select distinct\n",
      "    ticker,\n",
      "    trade_date as date\n",
      "from {{ source('airbyte_csv_data', 'TRADING_BOOKS') }}\n",
      "where desk = 'FX Desk'\n"
     ]
    }
   ],
   "source": [
    "! cat ~/p4_data_pipeline/models/staging/staging_valid_fx_tickers.sql"
   ]
  },
  {
   "cell_type": "code",
   "execution_count": 16,
   "id": "08e19325-23f1-4109-a916-35765f3f9eb9",
   "metadata": {},
   "outputs": [
    {
     "name": "stdout",
     "output_type": "stream",
     "text": [
      "select\n",
      "    a.ticker,\n",
      "    a.date,\n",
      "    b.\"OPEN\" as open,\n",
      "    b.\"CLOSE\" as close,\n",
      "    b.\"HIGH\" as high,\n",
      "    b.\"LOW\" as low\n",
      "from {{ ref('staging_valid_stock_tickers') }} a\n",
      "join {{ source('stock_by_day', 'US_STOCK_METRICS') }} b\n",
      "on a.ticker = b.\"TICKER\" and a.date = b.\"RUN_DATE\"\n",
      "\n"
     ]
    }
   ],
   "source": [
    "! cat ~/p4_data_pipeline/models/staging/staging_valid_stock_info.sql"
   ]
  },
  {
   "cell_type": "code",
   "execution_count": 17,
   "id": "a1b7c0a3-9365-44c7-b73e-2b803ae7935e",
   "metadata": {},
   "outputs": [
    {
     "name": "stdout",
     "output_type": "stream",
     "text": [
      "select\n",
      "    a.ticker,\n",
      "    a.date,\n",
      "    b.\"OPEN\" as open,\n",
      "    b.\"CLOSE\" as close,\n",
      "    b.\"HIGH\" as high,\n",
      "    b.\"LOW\" as low\n",
      "from {{ ref('staging_valid_fx_tickers') }} a\n",
      "join {{ source('fx_by_day', 'FOREX_METRICS') }} b\n",
      "on a.ticker = b.\"CURRENCY_PAIR_NAME\" and a.date = b.\"RUN_DATE\"\n"
     ]
    }
   ],
   "source": [
    "! cat ~/p4_data_pipeline/models/staging/staging_valid_fx_info.sql"
   ]
  },
  {
   "cell_type": "markdown",
   "id": "350c6811-a2f3-4ba1-87d2-3e44e33dd05f",
   "metadata": {},
   "source": [
    "### Q22: Create staging table for trading pairs (0.5 points)"
   ]
  },
  {
   "cell_type": "code",
   "execution_count": 18,
   "id": "1053054b-8b49-43d7-b669-72634c81f3b1",
   "metadata": {},
   "outputs": [
    {
     "name": "stdout",
     "output_type": "stream",
     "text": [
      "SELECT\n",
      "  buy.TRADE_ID AS trade_id,\n",
      "  buy.TRADE_DATE AS trade_date,\n",
      "  buy.TRADER_NAME AS trader_name,\n",
      "  buy.DESK AS desk,\n",
      "  buy.TICKER AS ticker,\n",
      "  buy.QUANTITY AS quantity_buy,\n",
      "  buy.PRICE AS price_buy,\n",
      "  sell.QUANTITY AS quantity_sell,\n",
      "  sell.PRICE AS price_sell\n",
      "FROM {{ source('airbyte_csv_data', 'TRADING_BOOKS') }} buy\n",
      "JOIN {{ source('airbyte_csv_data', 'TRADING_BOOKS') }} sell\n",
      "  ON buy.TRADER_NAME = sell.TRADER_NAME\n",
      "  AND buy.TICKER = sell.TICKER\n",
      "  AND buy.TRADE_DATE = sell.TRADE_DATE\n",
      "WHERE buy.TRADE_TYPE = 'BUY'\n",
      "  AND sell.TRADE_TYPE = 'SELL'\n",
      "ORDER BY buy.TRADE_ID\n",
      "\n"
     ]
    }
   ],
   "source": [
    "! cat ~/p4_data_pipeline/models/staging/staging_buy_sell_joint.sql"
   ]
  },
  {
   "cell_type": "markdown",
   "id": "564bbdd4-a0c3-49c3-8e37-19cba8d80877",
   "metadata": {},
   "source": [
    "### Q23: Create a fact Table for trading data (1.5 points)"
   ]
  },
  {
   "cell_type": "code",
   "execution_count": 19,
   "id": "721b42e9-83c1-4684-b380-ccf4d05d402c",
   "metadata": {},
   "outputs": [
    {
     "name": "stdout",
     "output_type": "stream",
     "text": [
      "{{ config(materialized='table') }}\n",
      "\n",
      "SELECT\n",
      "  trade_id,\n",
      "  quantity_buy * price_buy AS buy_money,\n",
      "  quantity_sell * price_sell AS sell_money,\n",
      "  (quantity_sell * price_sell) - (quantity_buy * price_buy) AS profit\n",
      "FROM {{ ref('staging_buy_sell_joint') }}\n",
      "ORDER BY trade_id\n"
     ]
    }
   ],
   "source": [
    "! cat ~/p4_data_pipeline/models/marts/fact_tab_trading.sql"
   ]
  },
  {
   "cell_type": "markdown",
   "id": "a5cb99c6",
   "metadata": {},
   "source": [
    "### Q24: Compute total profit by desk (1 point)"
   ]
  },
  {
   "cell_type": "code",
   "execution_count": 20,
   "id": "06ee561e",
   "metadata": {},
   "outputs": [
    {
     "name": "stderr",
     "output_type": "stream",
     "text": [
      "/tmp/ipykernel_327813/2398888632.py:12: UserWarning: pandas only supports SQLAlchemy connectable (engine/connection) or database string URI or sqlite3 DBAPI2 connection. Other DBAPI2 objects are not tested. Please consider using SQLAlchemy.\n",
      "  df = pd.read_sql(query, connector)\n"
     ]
    },
    {
     "data": {
      "text/html": [
       "<div>\n",
       "<style scoped>\n",
       "    .dataframe tbody tr th:only-of-type {\n",
       "        vertical-align: middle;\n",
       "    }\n",
       "\n",
       "    .dataframe tbody tr th {\n",
       "        vertical-align: top;\n",
       "    }\n",
       "\n",
       "    .dataframe thead th {\n",
       "        text-align: right;\n",
       "    }\n",
       "</style>\n",
       "<table border=\"1\" class=\"dataframe\">\n",
       "  <thead>\n",
       "    <tr style=\"text-align: right;\">\n",
       "      <th></th>\n",
       "      <th>DESK</th>\n",
       "      <th>TOTAL_PROFIT</th>\n",
       "    </tr>\n",
       "  </thead>\n",
       "  <tbody>\n",
       "    <tr>\n",
       "      <th>0</th>\n",
       "      <td>Equity Desk</td>\n",
       "      <td>2718.75</td>\n",
       "    </tr>\n",
       "    <tr>\n",
       "      <th>1</th>\n",
       "      <td>FX Desk</td>\n",
       "      <td>5000.00</td>\n",
       "    </tr>\n",
       "  </tbody>\n",
       "</table>\n",
       "</div>"
      ],
      "text/plain": [
       "          DESK  TOTAL_PROFIT\n",
       "0  Equity Desk       2718.75\n",
       "1      FX Desk       5000.00"
      ]
     },
     "execution_count": 20,
     "metadata": {},
     "output_type": "execute_result"
    }
   ],
   "source": [
    "query = \"\"\"\n",
    "SELECT\n",
    "  tb.desk,\n",
    "  SUM(ft.profit) AS total_profit\n",
    "FROM STOCK_DB.STOCK_SCHEMA.TRADING_BOOKS tb\n",
    "JOIN STOCK_DB.STOCK_SCHEMA.FACT_TAB_TRADING ft\n",
    "ON tb.trade_id = ft.trade_id\n",
    "WHERE tb.trade_type = 'BUY'\n",
    "GROUP BY tb.desk\n",
    "ORDER BY tb.desk;\n",
    "\"\"\"\n",
    "df = pd.read_sql(query, connector)\n",
    "df"
   ]
  },
  {
   "cell_type": "markdown",
   "id": "ba1da3d8",
   "metadata": {},
   "source": [
    "### Q25: Compute profit rate by desk (1 point)"
   ]
  },
  {
   "cell_type": "code",
   "execution_count": 21,
   "id": "5d4f9a1e",
   "metadata": {},
   "outputs": [
    {
     "name": "stderr",
     "output_type": "stream",
     "text": [
      "/tmp/ipykernel_327813/201157189.py:12: UserWarning: pandas only supports SQLAlchemy connectable (engine/connection) or database string URI or sqlite3 DBAPI2 connection. Other DBAPI2 objects are not tested. Please consider using SQLAlchemy.\n",
      "  df = pd.read_sql(query, connector)\n"
     ]
    },
    {
     "data": {
      "text/html": [
       "<div>\n",
       "<style scoped>\n",
       "    .dataframe tbody tr th:only-of-type {\n",
       "        vertical-align: middle;\n",
       "    }\n",
       "\n",
       "    .dataframe tbody tr th {\n",
       "        vertical-align: top;\n",
       "    }\n",
       "\n",
       "    .dataframe thead th {\n",
       "        text-align: right;\n",
       "    }\n",
       "</style>\n",
       "<table border=\"1\" class=\"dataframe\">\n",
       "  <thead>\n",
       "    <tr style=\"text-align: right;\">\n",
       "      <th></th>\n",
       "      <th>DESK</th>\n",
       "      <th>PROFIT_RATE</th>\n",
       "    </tr>\n",
       "  </thead>\n",
       "  <tbody>\n",
       "    <tr>\n",
       "      <th>0</th>\n",
       "      <td>Equity Desk</td>\n",
       "      <td>0.012701</td>\n",
       "    </tr>\n",
       "    <tr>\n",
       "      <th>1</th>\n",
       "      <td>FX Desk</td>\n",
       "      <td>0.006342</td>\n",
       "    </tr>\n",
       "  </tbody>\n",
       "</table>\n",
       "</div>"
      ],
      "text/plain": [
       "          DESK  PROFIT_RATE\n",
       "0  Equity Desk     0.012701\n",
       "1      FX Desk     0.006342"
      ]
     },
     "execution_count": 21,
     "metadata": {},
     "output_type": "execute_result"
    }
   ],
   "source": [
    "query = \"\"\"\n",
    "SELECT\n",
    "  tb.desk,\n",
    "  SUM(ft.profit) / NULLIF(SUM(ft.buy_money), 0) AS profit_rate\n",
    "FROM STOCK_DB.STOCK_SCHEMA.TRADING_BOOKS tb\n",
    "JOIN STOCK_DB.STOCK_SCHEMA.FACT_TAB_TRADING ft\n",
    "ON tb.trade_id = ft.trade_id\n",
    "WHERE tb.trade_type = 'BUY'\n",
    "GROUP BY tb.desk\n",
    "ORDER BY tb.desk;\n",
    "\"\"\"\n",
    "df = pd.read_sql(query, connector)\n",
    "df"
   ]
  }
 ],
 "metadata": {
  "kernelspec": {
   "display_name": "p4-env",
   "language": "python",
   "name": "p4-env"
  },
  "language_info": {
   "codemirror_mode": {
    "name": "ipython",
    "version": 3
   },
   "file_extension": ".py",
   "mimetype": "text/x-python",
   "name": "python",
   "nbconvert_exporter": "python",
   "pygments_lexer": "ipython3",
   "version": "3.10.12"
  }
 },
 "nbformat": 4,
 "nbformat_minor": 5
}
